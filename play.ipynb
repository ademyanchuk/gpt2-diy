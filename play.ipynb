{
 "cells": [
  {
   "cell_type": "code",
   "execution_count": 1,
   "id": "09bcd062",
   "metadata": {},
   "outputs": [
    {
     "name": "stderr",
     "output_type": "stream",
     "text": [
      "c:\\Users\\Alexey\\venv\\gpt2diy\\Lib\\site-packages\\tqdm\\auto.py:21: TqdmWarning: IProgress not found. Please update jupyter and ipywidgets. See https://ipywidgets.readthedocs.io/en/stable/user_install.html\n",
      "  from .autonotebook import tqdm as notebook_tqdm\n"
     ]
    }
   ],
   "source": [
    "from transformers import pipeline, set_seed"
   ]
  },
  {
   "cell_type": "code",
   "execution_count": 2,
   "id": "12c61d5f",
   "metadata": {},
   "outputs": [
    {
     "name": "stderr",
     "output_type": "stream",
     "text": [
      "Device set to use cuda:0\n"
     ]
    }
   ],
   "source": [
    "generator = pipeline('text-generation', model='gpt2')\n",
    "set_seed(42)"
   ]
  },
  {
   "cell_type": "code",
   "execution_count": 3,
   "id": "37f72407",
   "metadata": {},
   "outputs": [
    {
     "name": "stderr",
     "output_type": "stream",
     "text": [
      "Setting `pad_token_id` to `eos_token_id`:50256 for open-end generation.\n"
     ]
    },
    {
     "data": {
      "text/plain": [
       "[{'generated_text': 'Hello, I\\'m a language model, so I can write things that are easy to understand with help of my programming language.\"\\n\\nHowever, this'},\n",
       " {'generated_text': \"Hello, I'm a language model, I've had years of experience with languages, but here I'm a native speaker. So I was kind of\"},\n",
       " {'generated_text': \"Hello, I'm a language model, I need to understand and understand languages.\\n\\nBut I don't necessarily think we can use language models to\"},\n",
       " {'generated_text': 'Hello, I\\'m a language model, this is a language model, and when somebody calls you, you don\\'t hear this very often anyway,\" he'},\n",
       " {'generated_text': \"Hello, I'm a language model, not a language model. I mean, the basic premise for modeling languages with Ocamlp is that each value\"}]"
      ]
     },
     "execution_count": 3,
     "metadata": {},
     "output_type": "execute_result"
    }
   ],
   "source": [
    "generator(\"Hello, I'm a language model,\", max_length=30, num_return_sequences=5, truncation=True)"
   ]
  },
  {
   "cell_type": "code",
   "execution_count": 4,
   "id": "bd81749b",
   "metadata": {},
   "outputs": [],
   "source": [
    "hfgpt2_state = generator.model.state_dict()"
   ]
  },
  {
   "cell_type": "code",
   "execution_count": 5,
   "id": "90b28472",
   "metadata": {},
   "outputs": [
    {
     "name": "stdout",
     "output_type": "stream",
     "text": [
      "transformer.wte.weight torch.Size([50257, 768])\n",
      "transformer.wpe.weight torch.Size([1024, 768])\n",
      "transformer.h.0.ln_1.weight torch.Size([768])\n",
      "transformer.h.0.ln_1.bias torch.Size([768])\n",
      "transformer.h.0.attn.c_attn.weight torch.Size([768, 2304])\n",
      "transformer.h.0.attn.c_attn.bias torch.Size([2304])\n",
      "transformer.h.0.attn.c_proj.weight torch.Size([768, 768])\n",
      "transformer.h.0.attn.c_proj.bias torch.Size([768])\n",
      "transformer.h.0.ln_2.weight torch.Size([768])\n",
      "transformer.h.0.ln_2.bias torch.Size([768])\n",
      "transformer.h.0.mlp.c_fc.weight torch.Size([768, 3072])\n",
      "transformer.h.0.mlp.c_fc.bias torch.Size([3072])\n",
      "transformer.h.0.mlp.c_proj.weight torch.Size([3072, 768])\n",
      "transformer.h.0.mlp.c_proj.bias torch.Size([768])\n",
      "transformer.h.1.ln_1.weight torch.Size([768])\n",
      "transformer.h.1.ln_1.bias torch.Size([768])\n",
      "transformer.h.1.attn.c_attn.weight torch.Size([768, 2304])\n",
      "transformer.h.1.attn.c_attn.bias torch.Size([2304])\n",
      "transformer.h.1.attn.c_proj.weight torch.Size([768, 768])\n",
      "transformer.h.1.attn.c_proj.bias torch.Size([768])\n",
      "transformer.h.1.ln_2.weight torch.Size([768])\n",
      "transformer.h.1.ln_2.bias torch.Size([768])\n",
      "transformer.h.1.mlp.c_fc.weight torch.Size([768, 3072])\n",
      "transformer.h.1.mlp.c_fc.bias torch.Size([3072])\n",
      "transformer.h.1.mlp.c_proj.weight torch.Size([3072, 768])\n",
      "transformer.h.1.mlp.c_proj.bias torch.Size([768])\n",
      "transformer.h.2.ln_1.weight torch.Size([768])\n",
      "transformer.h.2.ln_1.bias torch.Size([768])\n",
      "transformer.h.2.attn.c_attn.weight torch.Size([768, 2304])\n",
      "transformer.h.2.attn.c_attn.bias torch.Size([2304])\n",
      "transformer.h.2.attn.c_proj.weight torch.Size([768, 768])\n",
      "transformer.h.2.attn.c_proj.bias torch.Size([768])\n",
      "transformer.h.2.ln_2.weight torch.Size([768])\n",
      "transformer.h.2.ln_2.bias torch.Size([768])\n",
      "transformer.h.2.mlp.c_fc.weight torch.Size([768, 3072])\n",
      "transformer.h.2.mlp.c_fc.bias torch.Size([3072])\n",
      "transformer.h.2.mlp.c_proj.weight torch.Size([3072, 768])\n",
      "transformer.h.2.mlp.c_proj.bias torch.Size([768])\n",
      "transformer.h.3.ln_1.weight torch.Size([768])\n",
      "transformer.h.3.ln_1.bias torch.Size([768])\n",
      "transformer.h.3.attn.c_attn.weight torch.Size([768, 2304])\n",
      "transformer.h.3.attn.c_attn.bias torch.Size([2304])\n",
      "transformer.h.3.attn.c_proj.weight torch.Size([768, 768])\n",
      "transformer.h.3.attn.c_proj.bias torch.Size([768])\n",
      "transformer.h.3.ln_2.weight torch.Size([768])\n",
      "transformer.h.3.ln_2.bias torch.Size([768])\n",
      "transformer.h.3.mlp.c_fc.weight torch.Size([768, 3072])\n",
      "transformer.h.3.mlp.c_fc.bias torch.Size([3072])\n",
      "transformer.h.3.mlp.c_proj.weight torch.Size([3072, 768])\n",
      "transformer.h.3.mlp.c_proj.bias torch.Size([768])\n",
      "transformer.h.4.ln_1.weight torch.Size([768])\n",
      "transformer.h.4.ln_1.bias torch.Size([768])\n",
      "transformer.h.4.attn.c_attn.weight torch.Size([768, 2304])\n",
      "transformer.h.4.attn.c_attn.bias torch.Size([2304])\n",
      "transformer.h.4.attn.c_proj.weight torch.Size([768, 768])\n",
      "transformer.h.4.attn.c_proj.bias torch.Size([768])\n",
      "transformer.h.4.ln_2.weight torch.Size([768])\n",
      "transformer.h.4.ln_2.bias torch.Size([768])\n",
      "transformer.h.4.mlp.c_fc.weight torch.Size([768, 3072])\n",
      "transformer.h.4.mlp.c_fc.bias torch.Size([3072])\n",
      "transformer.h.4.mlp.c_proj.weight torch.Size([3072, 768])\n",
      "transformer.h.4.mlp.c_proj.bias torch.Size([768])\n",
      "transformer.h.5.ln_1.weight torch.Size([768])\n",
      "transformer.h.5.ln_1.bias torch.Size([768])\n",
      "transformer.h.5.attn.c_attn.weight torch.Size([768, 2304])\n",
      "transformer.h.5.attn.c_attn.bias torch.Size([2304])\n",
      "transformer.h.5.attn.c_proj.weight torch.Size([768, 768])\n",
      "transformer.h.5.attn.c_proj.bias torch.Size([768])\n",
      "transformer.h.5.ln_2.weight torch.Size([768])\n",
      "transformer.h.5.ln_2.bias torch.Size([768])\n",
      "transformer.h.5.mlp.c_fc.weight torch.Size([768, 3072])\n",
      "transformer.h.5.mlp.c_fc.bias torch.Size([3072])\n",
      "transformer.h.5.mlp.c_proj.weight torch.Size([3072, 768])\n",
      "transformer.h.5.mlp.c_proj.bias torch.Size([768])\n",
      "transformer.h.6.ln_1.weight torch.Size([768])\n",
      "transformer.h.6.ln_1.bias torch.Size([768])\n",
      "transformer.h.6.attn.c_attn.weight torch.Size([768, 2304])\n",
      "transformer.h.6.attn.c_attn.bias torch.Size([2304])\n",
      "transformer.h.6.attn.c_proj.weight torch.Size([768, 768])\n",
      "transformer.h.6.attn.c_proj.bias torch.Size([768])\n",
      "transformer.h.6.ln_2.weight torch.Size([768])\n",
      "transformer.h.6.ln_2.bias torch.Size([768])\n",
      "transformer.h.6.mlp.c_fc.weight torch.Size([768, 3072])\n",
      "transformer.h.6.mlp.c_fc.bias torch.Size([3072])\n",
      "transformer.h.6.mlp.c_proj.weight torch.Size([3072, 768])\n",
      "transformer.h.6.mlp.c_proj.bias torch.Size([768])\n",
      "transformer.h.7.ln_1.weight torch.Size([768])\n",
      "transformer.h.7.ln_1.bias torch.Size([768])\n",
      "transformer.h.7.attn.c_attn.weight torch.Size([768, 2304])\n",
      "transformer.h.7.attn.c_attn.bias torch.Size([2304])\n",
      "transformer.h.7.attn.c_proj.weight torch.Size([768, 768])\n",
      "transformer.h.7.attn.c_proj.bias torch.Size([768])\n",
      "transformer.h.7.ln_2.weight torch.Size([768])\n",
      "transformer.h.7.ln_2.bias torch.Size([768])\n",
      "transformer.h.7.mlp.c_fc.weight torch.Size([768, 3072])\n",
      "transformer.h.7.mlp.c_fc.bias torch.Size([3072])\n",
      "transformer.h.7.mlp.c_proj.weight torch.Size([3072, 768])\n",
      "transformer.h.7.mlp.c_proj.bias torch.Size([768])\n",
      "transformer.h.8.ln_1.weight torch.Size([768])\n",
      "transformer.h.8.ln_1.bias torch.Size([768])\n",
      "transformer.h.8.attn.c_attn.weight torch.Size([768, 2304])\n",
      "transformer.h.8.attn.c_attn.bias torch.Size([2304])\n",
      "transformer.h.8.attn.c_proj.weight torch.Size([768, 768])\n",
      "transformer.h.8.attn.c_proj.bias torch.Size([768])\n",
      "transformer.h.8.ln_2.weight torch.Size([768])\n",
      "transformer.h.8.ln_2.bias torch.Size([768])\n",
      "transformer.h.8.mlp.c_fc.weight torch.Size([768, 3072])\n",
      "transformer.h.8.mlp.c_fc.bias torch.Size([3072])\n",
      "transformer.h.8.mlp.c_proj.weight torch.Size([3072, 768])\n",
      "transformer.h.8.mlp.c_proj.bias torch.Size([768])\n",
      "transformer.h.9.ln_1.weight torch.Size([768])\n",
      "transformer.h.9.ln_1.bias torch.Size([768])\n",
      "transformer.h.9.attn.c_attn.weight torch.Size([768, 2304])\n",
      "transformer.h.9.attn.c_attn.bias torch.Size([2304])\n",
      "transformer.h.9.attn.c_proj.weight torch.Size([768, 768])\n",
      "transformer.h.9.attn.c_proj.bias torch.Size([768])\n",
      "transformer.h.9.ln_2.weight torch.Size([768])\n",
      "transformer.h.9.ln_2.bias torch.Size([768])\n",
      "transformer.h.9.mlp.c_fc.weight torch.Size([768, 3072])\n",
      "transformer.h.9.mlp.c_fc.bias torch.Size([3072])\n",
      "transformer.h.9.mlp.c_proj.weight torch.Size([3072, 768])\n",
      "transformer.h.9.mlp.c_proj.bias torch.Size([768])\n",
      "transformer.h.10.ln_1.weight torch.Size([768])\n",
      "transformer.h.10.ln_1.bias torch.Size([768])\n",
      "transformer.h.10.attn.c_attn.weight torch.Size([768, 2304])\n",
      "transformer.h.10.attn.c_attn.bias torch.Size([2304])\n",
      "transformer.h.10.attn.c_proj.weight torch.Size([768, 768])\n",
      "transformer.h.10.attn.c_proj.bias torch.Size([768])\n",
      "transformer.h.10.ln_2.weight torch.Size([768])\n",
      "transformer.h.10.ln_2.bias torch.Size([768])\n",
      "transformer.h.10.mlp.c_fc.weight torch.Size([768, 3072])\n",
      "transformer.h.10.mlp.c_fc.bias torch.Size([3072])\n",
      "transformer.h.10.mlp.c_proj.weight torch.Size([3072, 768])\n",
      "transformer.h.10.mlp.c_proj.bias torch.Size([768])\n",
      "transformer.h.11.ln_1.weight torch.Size([768])\n",
      "transformer.h.11.ln_1.bias torch.Size([768])\n",
      "transformer.h.11.attn.c_attn.weight torch.Size([768, 2304])\n",
      "transformer.h.11.attn.c_attn.bias torch.Size([2304])\n",
      "transformer.h.11.attn.c_proj.weight torch.Size([768, 768])\n",
      "transformer.h.11.attn.c_proj.bias torch.Size([768])\n",
      "transformer.h.11.ln_2.weight torch.Size([768])\n",
      "transformer.h.11.ln_2.bias torch.Size([768])\n",
      "transformer.h.11.mlp.c_fc.weight torch.Size([768, 3072])\n",
      "transformer.h.11.mlp.c_fc.bias torch.Size([3072])\n",
      "transformer.h.11.mlp.c_proj.weight torch.Size([3072, 768])\n",
      "transformer.h.11.mlp.c_proj.bias torch.Size([768])\n",
      "transformer.ln_f.weight torch.Size([768])\n",
      "transformer.ln_f.bias torch.Size([768])\n",
      "lm_head.weight torch.Size([50257, 768])\n"
     ]
    }
   ],
   "source": [
    "for (k, v) in hfgpt2_state.items():\n",
    "  print(k, v.shape)"
   ]
  },
  {
   "cell_type": "code",
   "execution_count": 6,
   "id": "b7954aa1",
   "metadata": {},
   "outputs": [
    {
     "data": {
      "text/plain": [
       "GPT2LMHeadModel(\n",
       "  (transformer): GPT2Model(\n",
       "    (wte): Embedding(50257, 768)\n",
       "    (wpe): Embedding(1024, 768)\n",
       "    (drop): Dropout(p=0.1, inplace=False)\n",
       "    (h): ModuleList(\n",
       "      (0-11): 12 x GPT2Block(\n",
       "        (ln_1): LayerNorm((768,), eps=1e-05, elementwise_affine=True)\n",
       "        (attn): GPT2Attention(\n",
       "          (c_attn): Conv1D(nf=2304, nx=768)\n",
       "          (c_proj): Conv1D(nf=768, nx=768)\n",
       "          (attn_dropout): Dropout(p=0.1, inplace=False)\n",
       "          (resid_dropout): Dropout(p=0.1, inplace=False)\n",
       "        )\n",
       "        (ln_2): LayerNorm((768,), eps=1e-05, elementwise_affine=True)\n",
       "        (mlp): GPT2MLP(\n",
       "          (c_fc): Conv1D(nf=3072, nx=768)\n",
       "          (c_proj): Conv1D(nf=768, nx=3072)\n",
       "          (act): NewGELUActivation()\n",
       "          (dropout): Dropout(p=0.1, inplace=False)\n",
       "        )\n",
       "      )\n",
       "    )\n",
       "    (ln_f): LayerNorm((768,), eps=1e-05, elementwise_affine=True)\n",
       "  )\n",
       "  (lm_head): Linear(in_features=768, out_features=50257, bias=False)\n",
       ")"
      ]
     },
     "execution_count": 6,
     "metadata": {},
     "output_type": "execute_result"
    }
   ],
   "source": [
    "generator.model"
   ]
  },
  {
   "cell_type": "code",
   "execution_count": 7,
   "id": "b5d1a7e7",
   "metadata": {},
   "outputs": [],
   "source": [
    "from dataclasses import dataclass\n",
    "import torch\n",
    "import torch.nn as nn"
   ]
  },
  {
   "cell_type": "code",
   "execution_count": 8,
   "id": "919794c2",
   "metadata": {},
   "outputs": [],
   "source": [
    "@dataclass\n",
    "class GPT2Config:\n",
    "  n_layers = 12\n",
    "  n_embd = 768\n",
    "  n_heads = 12\n",
    "  block_size = 1024\n",
    "  vocab_size = 50257"
   ]
  },
  {
   "cell_type": "code",
   "execution_count": 9,
   "id": "2c8c485e",
   "metadata": {},
   "outputs": [],
   "source": [
    "wpe = nn.Embedding(1024, 768)"
   ]
  },
  {
   "cell_type": "code",
   "execution_count": 10,
   "id": "25eaf55f",
   "metadata": {},
   "outputs": [],
   "source": [
    "wpe.weight.data = hfgpt2_state['transformer.wpe.weight'].data"
   ]
  },
  {
   "cell_type": "code",
   "execution_count": 11,
   "id": "ac795e63",
   "metadata": {},
   "outputs": [],
   "source": [
    "# Block attention and projection (c_attn and c_proj) are Conv1D modules with weight and bias\n",
    "# if we want to use Linear, that would require transpose of loaded weights."
   ]
  },
  {
   "cell_type": "code",
   "execution_count": 12,
   "id": "9187e9f0",
   "metadata": {},
   "outputs": [],
   "source": [
    "c_attn = nn.Linear(768, 768*3, bias=True, device='cuda') # query, key, values weights in single matrix\n",
    "c_attn.bias.data = generator.model.transformer.h[0].attn.c_attn.bias.data\n",
    "c_attn.weight.data = generator.model.transformer.h[0].attn.c_attn.weight.data.T"
   ]
  },
  {
   "cell_type": "code",
   "execution_count": 13,
   "id": "4c6f15a6",
   "metadata": {},
   "outputs": [],
   "source": [
    "x = torch.randn((4, 6, 768), device='cuda')"
   ]
  },
  {
   "cell_type": "code",
   "execution_count": 14,
   "id": "90dd0248",
   "metadata": {},
   "outputs": [],
   "source": [
    "out_hf = generator.model.transformer.h[0].attn.c_attn(x)"
   ]
  },
  {
   "cell_type": "code",
   "execution_count": 15,
   "id": "822989ce",
   "metadata": {},
   "outputs": [],
   "source": [
    "out_loc = c_attn(x)"
   ]
  },
  {
   "cell_type": "code",
   "execution_count": 16,
   "id": "c9b728ee",
   "metadata": {},
   "outputs": [
    {
     "data": {
      "text/plain": [
       "tensor(True, device='cuda:0')"
      ]
     },
     "execution_count": 16,
     "metadata": {},
     "output_type": "execute_result"
    }
   ],
   "source": [
    "(out_hf == out_loc).all()"
   ]
  },
  {
   "cell_type": "code",
   "execution_count": 17,
   "id": "653984aa",
   "metadata": {},
   "outputs": [
    {
     "data": {
      "text/plain": [
       "GPT2Attention(\n",
       "  (c_attn): Conv1D(nf=2304, nx=768)\n",
       "  (c_proj): Conv1D(nf=768, nx=768)\n",
       "  (attn_dropout): Dropout(p=0.1, inplace=False)\n",
       "  (resid_dropout): Dropout(p=0.1, inplace=False)\n",
       ")"
      ]
     },
     "execution_count": 17,
     "metadata": {},
     "output_type": "execute_result"
    }
   ],
   "source": [
    "generator.model.transformer.h[0].attn"
   ]
  },
  {
   "cell_type": "code",
   "execution_count": 18,
   "id": "a24f42e7",
   "metadata": {},
   "outputs": [],
   "source": [
    "qkv = torch.randn((4, 8, 12))\n",
    "q,k,v = torch.split(qkv, 4, dim=-1)"
   ]
  },
  {
   "cell_type": "code",
   "execution_count": 19,
   "id": "957ee2c8",
   "metadata": {},
   "outputs": [
    {
     "data": {
      "text/plain": [
       "torch.Size([4, 8, 4])"
      ]
     },
     "execution_count": 19,
     "metadata": {},
     "output_type": "execute_result"
    }
   ],
   "source": [
    "v.shape"
   ]
  },
  {
   "cell_type": "markdown",
   "id": "d606647a",
   "metadata": {},
   "source": [
    "## Load our model weights from pretrained"
   ]
  },
  {
   "cell_type": "code",
   "execution_count": 79,
   "id": "faa4c3b2",
   "metadata": {},
   "outputs": [],
   "source": [
    "import torch\n",
    "from transformers import GPT2LMHeadModel\n",
    "\n",
    "from model import GPT2, GPT2Config"
   ]
  },
  {
   "cell_type": "code",
   "execution_count": 102,
   "id": "002c6987",
   "metadata": {},
   "outputs": [
    {
     "data": {
      "text/plain": [
       "GPT2LMHeadModel(\n",
       "  (transformer): GPT2Model(\n",
       "    (wte): Embedding(50257, 768)\n",
       "    (wpe): Embedding(1024, 768)\n",
       "    (drop): Dropout(p=0.1, inplace=False)\n",
       "    (h): ModuleList(\n",
       "      (0-11): 12 x GPT2Block(\n",
       "        (ln_1): LayerNorm((768,), eps=1e-05, elementwise_affine=True)\n",
       "        (attn): GPT2Attention(\n",
       "          (c_attn): Conv1D(nf=2304, nx=768)\n",
       "          (c_proj): Conv1D(nf=768, nx=768)\n",
       "          (attn_dropout): Dropout(p=0.1, inplace=False)\n",
       "          (resid_dropout): Dropout(p=0.1, inplace=False)\n",
       "        )\n",
       "        (ln_2): LayerNorm((768,), eps=1e-05, elementwise_affine=True)\n",
       "        (mlp): GPT2MLP(\n",
       "          (c_fc): Conv1D(nf=3072, nx=768)\n",
       "          (c_proj): Conv1D(nf=768, nx=3072)\n",
       "          (act): NewGELUActivation()\n",
       "          (dropout): Dropout(p=0.1, inplace=False)\n",
       "        )\n",
       "      )\n",
       "    )\n",
       "    (ln_f): LayerNorm((768,), eps=1e-05, elementwise_affine=True)\n",
       "  )\n",
       "  (lm_head): Linear(in_features=768, out_features=50257, bias=False)\n",
       ")"
      ]
     },
     "execution_count": 102,
     "metadata": {},
     "output_type": "execute_result"
    }
   ],
   "source": [
    "hf_model = GPT2LMHeadModel.from_pretrained('gpt2')\n",
    "hf_model.to('cuda')"
   ]
  },
  {
   "cell_type": "code",
   "execution_count": 103,
   "id": "3af48c9a",
   "metadata": {},
   "outputs": [
    {
     "name": "stderr",
     "output_type": "stream",
     "text": [
      "Device set to use cuda:0\n"
     ]
    }
   ],
   "source": [
    "generator = pipeline('text-generation', model='gpt2')\n",
    "set_seed(42)"
   ]
  },
  {
   "cell_type": "code",
   "execution_count": 111,
   "id": "552a5d0a",
   "metadata": {},
   "outputs": [],
   "source": [
    "# same model\n",
    "for ((ak, av), (bk, bv)) in zip(hf_model.state_dict().items(), generator.model.state_dict().items()):\n",
    "  if ak != bk:\n",
    "    print(f'{ak=} != {bk=}')\n",
    "  if torch.any(av != bv):\n",
    "    print(f'{ak} weight != {bk} weight')"
   ]
  },
  {
   "cell_type": "code",
   "execution_count": 105,
   "id": "8b4bea5f",
   "metadata": {},
   "outputs": [
    {
     "data": {
      "text/plain": [
       "GPT2(\n",
       "  (transformer): ModuleDict(\n",
       "    (wte): Embedding(50257, 768)\n",
       "    (wpe): Embedding(1024, 768)\n",
       "    (h): ModuleList(\n",
       "      (0-11): 12 x Block(\n",
       "        (ln_1): LayerNorm((768,), eps=1e-05, elementwise_affine=True)\n",
       "        (attn): Attention(\n",
       "          (c_attn): Linear(in_features=768, out_features=2304, bias=True)\n",
       "          (c_proj): Linear(in_features=768, out_features=768, bias=True)\n",
       "        )\n",
       "        (ln_2): LayerNorm((768,), eps=1e-05, elementwise_affine=True)\n",
       "        (mlp): MLP(\n",
       "          (c_fc): Linear(in_features=768, out_features=3072, bias=True)\n",
       "          (c_proj): Linear(in_features=3072, out_features=768, bias=True)\n",
       "          (act): GELU(approximate='tanh')\n",
       "        )\n",
       "      )\n",
       "    )\n",
       "    (ln_f): LayerNorm((768,), eps=1e-05, elementwise_affine=True)\n",
       "  )\n",
       "  (lm_head): Linear(in_features=768, out_features=50257, bias=False)\n",
       ")"
      ]
     },
     "execution_count": 105,
     "metadata": {},
     "output_type": "execute_result"
    }
   ],
   "source": [
    "conf = GPT2Config()\n",
    "model = GPT2(conf)\n",
    "model.to('cuda')\n",
    "model.eval()"
   ]
  },
  {
   "cell_type": "code",
   "execution_count": 106,
   "id": "d98251a8",
   "metadata": {},
   "outputs": [],
   "source": [
    "for name in model.state_dict():\n",
    "  if name not in generator.model.state_dict():\n",
    "    print(f'{name=} not in HF model')\n",
    "    \n",
    "for name in generator.model.state_dict():\n",
    "  if name not in model.state_dict():\n",
    "    print(f'{name=} not in our model')"
   ]
  },
  {
   "cell_type": "code",
   "execution_count": 107,
   "id": "94570884",
   "metadata": {},
   "outputs": [
    {
     "data": {
      "text/plain": [
       "True"
      ]
     },
     "execution_count": 107,
     "metadata": {},
     "output_type": "execute_result"
    }
   ],
   "source": [
    "model.state_dict().keys() == hf_model.state_dict().keys()"
   ]
  },
  {
   "cell_type": "code",
   "execution_count": 108,
   "id": "a43ebedd",
   "metadata": {},
   "outputs": [
    {
     "name": "stdout",
     "output_type": "stream",
     "text": [
      "transformer.h.0.attn.c_attn.weight\n",
      "transformer.h.0.attn.c_proj.weight\n",
      "transformer.h.0.mlp.c_fc.weight\n",
      "transformer.h.0.mlp.c_proj.weight\n",
      "transformer.h.1.attn.c_attn.weight\n",
      "transformer.h.1.attn.c_proj.weight\n",
      "transformer.h.1.mlp.c_fc.weight\n",
      "transformer.h.1.mlp.c_proj.weight\n",
      "transformer.h.2.attn.c_attn.weight\n",
      "transformer.h.2.attn.c_proj.weight\n",
      "transformer.h.2.mlp.c_fc.weight\n",
      "transformer.h.2.mlp.c_proj.weight\n",
      "transformer.h.3.attn.c_attn.weight\n",
      "transformer.h.3.attn.c_proj.weight\n",
      "transformer.h.3.mlp.c_fc.weight\n",
      "transformer.h.3.mlp.c_proj.weight\n",
      "transformer.h.4.attn.c_attn.weight\n",
      "transformer.h.4.attn.c_proj.weight\n",
      "transformer.h.4.mlp.c_fc.weight\n",
      "transformer.h.4.mlp.c_proj.weight\n",
      "transformer.h.5.attn.c_attn.weight\n",
      "transformer.h.5.attn.c_proj.weight\n",
      "transformer.h.5.mlp.c_fc.weight\n",
      "transformer.h.5.mlp.c_proj.weight\n",
      "transformer.h.6.attn.c_attn.weight\n",
      "transformer.h.6.attn.c_proj.weight\n",
      "transformer.h.6.mlp.c_fc.weight\n",
      "transformer.h.6.mlp.c_proj.weight\n",
      "transformer.h.7.attn.c_attn.weight\n",
      "transformer.h.7.attn.c_proj.weight\n",
      "transformer.h.7.mlp.c_fc.weight\n",
      "transformer.h.7.mlp.c_proj.weight\n",
      "transformer.h.8.attn.c_attn.weight\n",
      "transformer.h.8.attn.c_proj.weight\n",
      "transformer.h.8.mlp.c_fc.weight\n",
      "transformer.h.8.mlp.c_proj.weight\n",
      "transformer.h.9.attn.c_attn.weight\n",
      "transformer.h.9.attn.c_proj.weight\n",
      "transformer.h.9.mlp.c_fc.weight\n",
      "transformer.h.9.mlp.c_proj.weight\n",
      "transformer.h.10.attn.c_attn.weight\n",
      "transformer.h.10.attn.c_proj.weight\n",
      "transformer.h.10.mlp.c_fc.weight\n",
      "transformer.h.10.mlp.c_proj.weight\n",
      "transformer.h.11.attn.c_attn.weight\n",
      "transformer.h.11.attn.c_proj.weight\n",
      "transformer.h.11.mlp.c_fc.weight\n",
      "transformer.h.11.mlp.c_proj.weight\n"
     ]
    }
   ],
   "source": [
    "for name in model.state_dict():\n",
    "  if \"c_\" in name and name.endswith(\"weight\"):\n",
    "    print(name)"
   ]
  },
  {
   "cell_type": "code",
   "execution_count": 109,
   "id": "8afb0404",
   "metadata": {},
   "outputs": [],
   "source": [
    "with torch.no_grad():\n",
    "  self_sd = model.state_dict()\n",
    "  hf_sd = hf_model.state_dict()\n",
    "  wn = \"transformer.h.0.attn.c_attn.weight\"\n",
    "  bn = \"transformer.h.0.attn.c_attn.bias\"\n",
    "  self_sd[wn].copy_(hf_sd[wn].T)\n",
    "  self_sd[bn].copy_(hf_sd[bn])\n",
    "  "
   ]
  },
  {
   "cell_type": "code",
   "execution_count": 110,
   "id": "29375817",
   "metadata": {},
   "outputs": [
    {
     "data": {
      "text/plain": [
       "(tensor(True, device='cuda:0'), tensor(True, device='cuda:0'))"
      ]
     },
     "execution_count": 110,
     "metadata": {},
     "output_type": "execute_result"
    }
   ],
   "source": [
    "(model.state_dict()[wn] == hf_model.state_dict()[wn].T).all(),\\\n",
    "  (model.state_dict()[bn] == hf_model.state_dict()[bn]).all()"
   ]
  },
  {
   "cell_type": "code",
   "execution_count": null,
   "id": "3f24cd32",
   "metadata": {},
   "outputs": [],
   "source": [
    "import torch.nn as nn"
   ]
  },
  {
   "cell_type": "code",
   "execution_count": 74,
   "id": "41c9cf5d",
   "metadata": {},
   "outputs": [],
   "source": [
    "class Net(nn.Module):\n",
    "  def __init__(self, *args, **kwargs):\n",
    "    super().__init__(*args, **kwargs)\n",
    "    self.net = nn.Linear(3,4)\n",
    "  def forward(self, x):\n",
    "    return self.net(x)\n",
    "\n",
    "  @classmethod\n",
    "  def from_pretrained(cls):\n",
    "    n = cls()\n",
    "    n.state_dict()['net.weight'].copy_(nn.Linear(3,4).weight)\n",
    "    n.state_dict()['net.bias'].copy_(nn.Linear(3,4).bias)\n",
    "    return n"
   ]
  },
  {
   "cell_type": "code",
   "execution_count": 75,
   "id": "44f556e0",
   "metadata": {},
   "outputs": [],
   "source": [
    "net = Net.from_pretrained()"
   ]
  },
  {
   "cell_type": "code",
   "execution_count": 76,
   "id": "8a293d3a",
   "metadata": {},
   "outputs": [
    {
     "data": {
      "text/plain": [
       "Net(\n",
       "  (net): Linear(in_features=3, out_features=4, bias=True)\n",
       ")"
      ]
     },
     "execution_count": 76,
     "metadata": {},
     "output_type": "execute_result"
    }
   ],
   "source": [
    "net"
   ]
  },
  {
   "cell_type": "markdown",
   "id": "59ab1659",
   "metadata": {},
   "source": [
    "## Generate"
   ]
  },
  {
   "cell_type": "code",
   "execution_count": 1,
   "id": "f3b439ca",
   "metadata": {},
   "outputs": [
    {
     "name": "stderr",
     "output_type": "stream",
     "text": [
      "c:\\Users\\Alexey\\venv\\gpt2diy\\Lib\\site-packages\\tqdm\\auto.py:21: TqdmWarning: IProgress not found. Please update jupyter and ipywidgets. See https://ipywidgets.readthedocs.io/en/stable/user_install.html\n",
      "  from .autonotebook import tqdm as notebook_tqdm\n"
     ]
    },
    {
     "name": "stdout",
     "output_type": "stream",
     "text": [
      "using device='cuda'\n"
     ]
    }
   ],
   "source": [
    "import torch\n",
    "import torch.nn as nn\n",
    "from transformers import GPT2LMHeadModel\n",
    "import tiktoken\n",
    "\n",
    "from model import GPT2, GPT2Config"
   ]
  },
  {
   "cell_type": "code",
   "execution_count": 2,
   "id": "faa68be0",
   "metadata": {},
   "outputs": [],
   "source": [
    "# generator(\"Hello, I'm a language model,\", max_length=30, num_return_sequences=5, truncation=True)"
   ]
  },
  {
   "cell_type": "code",
   "execution_count": 11,
   "id": "fcf65457",
   "metadata": {},
   "outputs": [],
   "source": [
    "text = \"Hello, I'm a language model,\""
   ]
  },
  {
   "cell_type": "code",
   "execution_count": 12,
   "id": "80387b70",
   "metadata": {},
   "outputs": [],
   "source": [
    "tokenizer = tiktoken.get_encoding(\"gpt2\")"
   ]
  },
  {
   "cell_type": "code",
   "execution_count": 13,
   "id": "3c968241",
   "metadata": {},
   "outputs": [],
   "source": [
    "ids = tokenizer.encode(text)"
   ]
  },
  {
   "cell_type": "code",
   "execution_count": 14,
   "id": "60746e30",
   "metadata": {},
   "outputs": [
    {
     "data": {
      "text/plain": [
       "True"
      ]
     },
     "execution_count": 14,
     "metadata": {},
     "output_type": "execute_result"
    }
   ],
   "source": [
    "tokenizer.decode(ids) == text"
   ]
  },
  {
   "cell_type": "code",
   "execution_count": 7,
   "id": "919af71b",
   "metadata": {},
   "outputs": [
    {
     "data": {
      "text/plain": [
       "GPT2LMHeadModel(\n",
       "  (transformer): GPT2Model(\n",
       "    (wte): Embedding(50257, 768)\n",
       "    (wpe): Embedding(1024, 768)\n",
       "    (drop): Dropout(p=0.1, inplace=False)\n",
       "    (h): ModuleList(\n",
       "      (0-11): 12 x GPT2Block(\n",
       "        (ln_1): LayerNorm((768,), eps=1e-05, elementwise_affine=True)\n",
       "        (attn): GPT2Attention(\n",
       "          (c_attn): Conv1D(nf=2304, nx=768)\n",
       "          (c_proj): Conv1D(nf=768, nx=768)\n",
       "          (attn_dropout): Dropout(p=0.1, inplace=False)\n",
       "          (resid_dropout): Dropout(p=0.1, inplace=False)\n",
       "        )\n",
       "        (ln_2): LayerNorm((768,), eps=1e-05, elementwise_affine=True)\n",
       "        (mlp): GPT2MLP(\n",
       "          (c_fc): Conv1D(nf=3072, nx=768)\n",
       "          (c_proj): Conv1D(nf=768, nx=3072)\n",
       "          (act): NewGELUActivation()\n",
       "          (dropout): Dropout(p=0.1, inplace=False)\n",
       "        )\n",
       "      )\n",
       "    )\n",
       "    (ln_f): LayerNorm((768,), eps=1e-05, elementwise_affine=True)\n",
       "  )\n",
       "  (lm_head): Linear(in_features=768, out_features=50257, bias=False)\n",
       ")"
      ]
     },
     "execution_count": 7,
     "metadata": {},
     "output_type": "execute_result"
    }
   ],
   "source": [
    "hf_model = GPT2LMHeadModel.from_pretrained('gpt2')\n",
    "hf_model.to('cuda')\n",
    "hf_model.eval()\n"
   ]
  },
  {
   "cell_type": "code",
   "execution_count": 8,
   "id": "26f78427",
   "metadata": {},
   "outputs": [
    {
     "data": {
      "text/plain": [
       "GPT2(\n",
       "  (transformer): ModuleDict(\n",
       "    (wte): Embedding(50257, 768)\n",
       "    (wpe): Embedding(1024, 768)\n",
       "    (h): ModuleList(\n",
       "      (0-11): 12 x Block(\n",
       "        (ln_1): LayerNorm((768,), eps=1e-05, elementwise_affine=True)\n",
       "        (attn): Attention(\n",
       "          (c_attn): Linear(in_features=768, out_features=2304, bias=True)\n",
       "          (c_proj): Linear(in_features=768, out_features=768, bias=True)\n",
       "        )\n",
       "        (ln_2): LayerNorm((768,), eps=1e-05, elementwise_affine=True)\n",
       "        (mlp): MLP(\n",
       "          (c_fc): Linear(in_features=768, out_features=3072, bias=True)\n",
       "          (c_proj): Linear(in_features=3072, out_features=768, bias=True)\n",
       "          (act): GELU(approximate='tanh')\n",
       "        )\n",
       "      )\n",
       "    )\n",
       "    (ln_f): LayerNorm((768,), eps=1e-05, elementwise_affine=True)\n",
       "  )\n",
       "  (lm_head): Linear(in_features=768, out_features=50257, bias=False)\n",
       ")"
      ]
     },
     "execution_count": 8,
     "metadata": {},
     "output_type": "execute_result"
    }
   ],
   "source": [
    "model = GPT2.from_pretrained(GPT2Config())\n",
    "model.to('cuda')\n",
    "model.eval()"
   ]
  },
  {
   "cell_type": "code",
   "execution_count": 18,
   "id": "98381db1",
   "metadata": {},
   "outputs": [],
   "source": [
    "t = torch.randn((5, 20)).softmax(-1)\n",
    "vals, ixs = torch.topk(t, k=10)"
   ]
  },
  {
   "cell_type": "code",
   "execution_count": 25,
   "id": "955c36dc",
   "metadata": {},
   "outputs": [
    {
     "data": {
      "text/plain": [
       "tensor([[0.1074, 0.0987, 0.0424, 0.0070, 0.0723, 0.0848, 0.0841, 0.0273, 0.0306,\n",
       "         0.0115, 0.0291, 0.0377, 0.0322, 0.0375, 0.0079, 0.0241, 0.0198, 0.0543,\n",
       "         0.1079, 0.0834],\n",
       "        [0.0369, 0.0419, 0.0563, 0.0368, 0.1469, 0.0543, 0.1494, 0.1152, 0.0404,\n",
       "         0.0266, 0.0274, 0.0527, 0.0349, 0.0246, 0.0242, 0.0060, 0.0054, 0.0808,\n",
       "         0.0290, 0.0104],\n",
       "        [0.0815, 0.0420, 0.0076, 0.0069, 0.0606, 0.0147, 0.0071, 0.0807, 0.0251,\n",
       "         0.0170, 0.0118, 0.0586, 0.1599, 0.0285, 0.1813, 0.0691, 0.0349, 0.0492,\n",
       "         0.0288, 0.0347],\n",
       "        [0.0160, 0.0856, 0.0332, 0.0065, 0.0079, 0.0798, 0.0310, 0.0794, 0.0087,\n",
       "         0.0211, 0.0387, 0.0032, 0.0691, 0.0274, 0.0174, 0.2883, 0.0409, 0.0555,\n",
       "         0.0734, 0.0169],\n",
       "        [0.1487, 0.0284, 0.0162, 0.0301, 0.0807, 0.0458, 0.0545, 0.0071, 0.0701,\n",
       "         0.0557, 0.1318, 0.0150, 0.0155, 0.0066, 0.0322, 0.0108, 0.0027, 0.0280,\n",
       "         0.2086, 0.0114]])"
      ]
     },
     "execution_count": 25,
     "metadata": {},
     "output_type": "execute_result"
    }
   ],
   "source": [
    "t"
   ]
  },
  {
   "cell_type": "code",
   "execution_count": 19,
   "id": "d02098db",
   "metadata": {},
   "outputs": [
    {
     "data": {
      "text/plain": [
       "(tensor([[0.1079, 0.1074, 0.0987, 0.0848, 0.0841, 0.0834, 0.0723, 0.0543, 0.0424,\n",
       "          0.0377],\n",
       "         [0.1494, 0.1469, 0.1152, 0.0808, 0.0563, 0.0543, 0.0527, 0.0419, 0.0404,\n",
       "          0.0369],\n",
       "         [0.1813, 0.1599, 0.0815, 0.0807, 0.0691, 0.0606, 0.0586, 0.0492, 0.0420,\n",
       "          0.0349],\n",
       "         [0.2883, 0.0856, 0.0798, 0.0794, 0.0734, 0.0691, 0.0555, 0.0409, 0.0387,\n",
       "          0.0332],\n",
       "         [0.2086, 0.1487, 0.1318, 0.0807, 0.0701, 0.0557, 0.0545, 0.0458, 0.0322,\n",
       "          0.0301]]),\n",
       " tensor([[18,  0,  1,  5,  6, 19,  4, 17,  2, 11],\n",
       "         [ 6,  4,  7, 17,  2,  5, 11,  1,  8,  0],\n",
       "         [14, 12,  0,  7, 15,  4, 11, 17,  1, 16],\n",
       "         [15,  1,  5,  7, 18, 12, 17, 16, 10,  2],\n",
       "         [18,  0, 10,  4,  8,  9,  6,  5, 14,  3]]))"
      ]
     },
     "execution_count": 19,
     "metadata": {},
     "output_type": "execute_result"
    }
   ],
   "source": [
    "vals, ixs"
   ]
  },
  {
   "cell_type": "code",
   "execution_count": 21,
   "id": "9614c093",
   "metadata": {},
   "outputs": [],
   "source": [
    "smpl = torch.multinomial(vals, num_samples=1)"
   ]
  },
  {
   "cell_type": "code",
   "execution_count": 24,
   "id": "c2991d47",
   "metadata": {},
   "outputs": [
    {
     "data": {
      "text/plain": [
       "tensor([[0],\n",
       "        [6],\n",
       "        [6],\n",
       "        [5],\n",
       "        [9]])"
      ]
     },
     "execution_count": 24,
     "metadata": {},
     "output_type": "execute_result"
    }
   ],
   "source": [
    "smpl"
   ]
  },
  {
   "cell_type": "code",
   "execution_count": 23,
   "id": "8111bfe8",
   "metadata": {},
   "outputs": [
    {
     "data": {
      "text/plain": [
       "tensor([[18],\n",
       "        [11],\n",
       "        [11],\n",
       "        [12],\n",
       "        [ 3]])"
      ]
     },
     "execution_count": 23,
     "metadata": {},
     "output_type": "execute_result"
    }
   ],
   "source": [
    "torch.gather(ixs, -1, smpl)"
   ]
  },
  {
   "cell_type": "code",
   "execution_count": 26,
   "id": "71b946d3",
   "metadata": {},
   "outputs": [
    {
     "name": "stdout",
     "output_type": "stream",
     "text": [
      "Hello, I'm a language model, not a program.\n",
      "\n",
      "So this morning I started studying for the interview in the lab. This was not a hard question, I decided to do it before I knew what I was doing. The goal is this: I wanted to see if my\n",
      "------------\n",
      "Hello, I'm a language model, and one of the main things that bothers me when they create languages is how easy it becomes to create something that is difficult to understand. I find myself more confused about how to understand than I normally am. And because of that, I try to work\n",
      "------------\n",
      "Hello, I'm a language model, and I wrote it off on the grounds that a language model would make me more fluent. But I'm not sure if that's true.\n",
      "\n",
      "But let's go back to your question about learning a language through formal procedures and procedures.\n",
      "\n",
      "\n",
      "------------\n",
      "Hello, I'm a language model, I really like languages. I like languages because like, they're good. And the way we talk about languages and, you know, we tend to do things like this. And because I was an artist, we'd all talk about it. And\n",
      "------------\n",
      "Hello, I'm a language model, a language model I'm using for data modelling. All I did was test the results and then I wrote some equations to convert them down to numbers. It only took my math and algebra skills and a little bit of coding to get the numbers right.\n",
      "------------\n"
     ]
    }
   ],
   "source": [
    "inp = torch.LongTensor(ids) # convert to torch tensor\n",
    "inp.unsqueeze_(0) # add batch dimension\n",
    "inp = inp.repeat(5, 1) # batch of 5 same inputs\n",
    "inp = inp.to('cuda') # move to gpu\n",
    "\n",
    "max_new_tokens = 50\n",
    "torch.manual_seed(42)\n",
    "for _ in range(max_new_tokens):\n",
    "  with torch.no_grad():\n",
    "    # clamp input to block size from left\n",
    "    logits = hf_model(inp[:,-1024:]).logits # model returns some output object, we need only logits\n",
    "    # only need probs for the last time step\n",
    "    logits = logits[:, -1, :]\n",
    "    probs = torch.softmax(logits, -1)\n",
    "    topk_vals, topk_ids = torch.topk(probs, k=50) # topk_ids are indices of original tensor `probs`\n",
    "    topk_sample = torch.multinomial(topk_vals, num_samples=1) # topk_sample are indices of tensor `topk_vals`\n",
    "    new_id = torch.gather(topk_ids, -1, topk_sample) # map sampled ids to original `probs` ids\n",
    "    inp = torch.cat((inp, new_id), dim=-1) \n",
    "\n",
    "out = tokenizer.decode_batch(inp.data.tolist())\n",
    "for res in out:\n",
    "  print(res)\n",
    "  print('------------')"
   ]
  },
  {
   "cell_type": "code",
   "execution_count": 27,
   "id": "42145e31",
   "metadata": {},
   "outputs": [
    {
     "name": "stdout",
     "output_type": "stream",
     "text": [
      "Hello, I'm a language model, not a program.\n",
      "\n",
      "So this morning I started studying for the interview in the lab. This was not a hard question, I decided to do it before I knew what I was doing. The goal is this: I wanted to see if my\n",
      "------------\n",
      "Hello, I'm a language model, and one of the main things that bothers me when they create languages is how easy it becomes to create something that is difficult to understand. I find myself more confused about how to understand than I normally am. And because of that, I try to work\n",
      "------------\n",
      "Hello, I'm a language model, and I wrote it off on the grounds that a language model would make me more fluent. But I'm not sure if that's true.\n",
      "\n",
      "But let's go back to your question about learning a language through formal procedures and procedures.\n",
      "\n",
      "\n",
      "------------\n",
      "Hello, I'm a language model, I really like languages. I like languages because like, they're good. And the way we talk about languages and, you know, we tend to do things like this. And because I was an artist, we'd all talk about it. And\n",
      "------------\n",
      "Hello, I'm a language model, a language model I'm using for data modelling. All I did was test the results and then I wrote some equations to convert them down to numbers. It only took my math and algebra skills and a little bit of coding to get the numbers right.\n",
      "------------\n"
     ]
    }
   ],
   "source": [
    "inp = torch.LongTensor(ids) # convert to torch tensor\n",
    "inp.unsqueeze_(0) # add batch dimension\n",
    "inp = inp.repeat(5, 1) # batch of 5 same inputs\n",
    "inp = inp.to('cuda') # move to gpu\n",
    "\n",
    "max_new_tokens = 50\n",
    "torch.manual_seed(42)\n",
    "for _ in range(max_new_tokens):\n",
    "  with torch.no_grad():\n",
    "    # clamp input to block size from left\n",
    "    logits = model(inp[:,-1024:])\n",
    "    # only need probs for the last time step\n",
    "    logits = logits[:, -1, :]\n",
    "    probs = torch.softmax(logits, -1)\n",
    "    topk_vals, topk_ids = torch.topk(probs, k=50) # topk_ids are indices of original tensor `probs`\n",
    "    topk_sample = torch.multinomial(topk_vals, num_samples=1) # topk_sample are indices of tensor `topk_vals`\n",
    "    new_id = torch.gather(topk_ids, -1, topk_sample) # map sampled ids to original `probs` ids\n",
    "    inp = torch.cat((inp, new_id), dim=-1) \n",
    "\n",
    "out = tokenizer.decode_batch(inp.data.tolist())\n",
    "for res in out:\n",
    "  print(res)\n",
    "  print('------------')"
   ]
  },
  {
   "cell_type": "markdown",
   "id": "9471e1b7",
   "metadata": {},
   "source": [
    "It is not exactly clear, where the difference is coming from. I quickly checked HF Conv1d and torch Linear\\\n",
    "they produce identical results. We are satisfied with allclose == True for now. Generate give identical results for both models."
   ]
  },
  {
   "cell_type": "markdown",
   "id": "70027e8e",
   "metadata": {},
   "source": [
    "## Data (tiny Shakespeare)"
   ]
  },
  {
   "cell_type": "code",
   "execution_count": 28,
   "id": "b7aade12",
   "metadata": {},
   "outputs": [],
   "source": [
    "with open('input.txt', 'r', encoding='utf-8') as file:\n",
    "  text = file.read()"
   ]
  },
  {
   "cell_type": "code",
   "execution_count": 29,
   "id": "121c8a5d",
   "metadata": {},
   "outputs": [
    {
     "data": {
      "text/plain": [
       "1115394"
      ]
     },
     "execution_count": 29,
     "metadata": {},
     "output_type": "execute_result"
    }
   ],
   "source": [
    "len(text)"
   ]
  },
  {
   "cell_type": "code",
   "execution_count": 31,
   "id": "15953679",
   "metadata": {},
   "outputs": [
    {
     "name": "stdout",
     "output_type": "stream",
     "text": [
      "First Citizen:\n",
      "Before we proceed any further, hear me speak.\n",
      "\n",
      "All:\n",
      "Speak, speak.\n",
      "\n",
      "First Citizen:\n",
      "You are all resolved rather to die than to famish?\n",
      "\n",
      "All:\n",
      "Resolved. resolved.\n",
      "\n",
      "First Citizen:\n",
      "First, you\n"
     ]
    }
   ],
   "source": [
    "print(text[:200])"
   ]
  },
  {
   "cell_type": "code",
   "execution_count": 32,
   "id": "2026eef8",
   "metadata": {},
   "outputs": [],
   "source": [
    "tokens = tokenizer.encode(text)"
   ]
  },
  {
   "cell_type": "code",
   "execution_count": 36,
   "id": "4eb671d1",
   "metadata": {},
   "outputs": [
    {
     "data": {
      "text/plain": [
       "True"
      ]
     },
     "execution_count": 36,
     "metadata": {},
     "output_type": "execute_result"
    }
   ],
   "source": [
    "tokenizer.decode(tokens) == text"
   ]
  },
  {
   "cell_type": "code",
   "execution_count": 33,
   "id": "e1f8bba7",
   "metadata": {},
   "outputs": [
    {
     "data": {
      "text/plain": [
       "338025"
      ]
     },
     "execution_count": 33,
     "metadata": {},
     "output_type": "execute_result"
    }
   ],
   "source": [
    "len(tokens)"
   ]
  },
  {
   "cell_type": "code",
   "execution_count": 44,
   "id": "e39361d3",
   "metadata": {},
   "outputs": [
    {
     "name": "stdout",
     "output_type": "stream",
     "text": [
      "[5962, 22307, 25, 198, 8421, 356, 5120, 597, 2252, 11, 3285, 502, 2740, 13, 198, 198, 3237, 25, 198, 5248, 461]\n"
     ]
    }
   ],
   "source": [
    "print(tokens[:21])"
   ]
  },
  {
   "cell_type": "code",
   "execution_count": 41,
   "id": "af84c442",
   "metadata": {},
   "outputs": [],
   "source": [
    "tokens_t = torch.LongTensor(tokens)"
   ]
  },
  {
   "cell_type": "markdown",
   "id": "e45f6488",
   "metadata": {},
   "source": [
    "We can use view to build training examples batches"
   ]
  },
  {
   "cell_type": "code",
   "execution_count": 43,
   "id": "aecad417",
   "metadata": {},
   "outputs": [
    {
     "data": {
      "text/plain": [
       "tensor([[ 5962, 22307,    25,   198,  8421],\n",
       "        [  356,  5120,   597,  2252,    11],\n",
       "        [ 3285,   502,  2740,    13,   198],\n",
       "        [  198,  3237,    25,   198,  5248]])"
      ]
     },
     "execution_count": 43,
     "metadata": {},
     "output_type": "execute_result"
    }
   ],
   "source": [
    "tokens_t[:20].view(4, 5)"
   ]
  },
  {
   "cell_type": "code",
   "execution_count": 45,
   "id": "b8440bb7",
   "metadata": {},
   "outputs": [
    {
     "data": {
      "text/plain": [
       "tensor([[22307,    25,   198,  8421,   356],\n",
       "        [ 5120,   597,  2252,    11,  3285],\n",
       "        [  502,  2740,    13,   198,   198],\n",
       "        [ 3237,    25,   198,  5248,   461]])"
      ]
     },
     "execution_count": 45,
     "metadata": {},
     "output_type": "execute_result"
    }
   ],
   "source": [
    "tokens_t[1:21].view(4, 5)"
   ]
  },
  {
   "cell_type": "markdown",
   "id": "96aea825",
   "metadata": {},
   "source": [
    "## Tieing Weights"
   ]
  },
  {
   "cell_type": "code",
   "execution_count": 1,
   "id": "11c3f29c",
   "metadata": {},
   "outputs": [],
   "source": [
    "import torch"
   ]
  },
  {
   "cell_type": "code",
   "execution_count": 98,
   "id": "5a58cc8d",
   "metadata": {},
   "outputs": [],
   "source": [
    "torch.manual_seed(42)\n",
    "\n",
    "x = torch.LongTensor([[0, 4, 8], [1, 3, 5]])\n",
    "\n",
    "# md = torch.nn.ModuleDict({'emb' : torch.nn.Embedding(16, 8)}\n",
    "emb = torch.nn.Embedding(16, 8)\n",
    "lin = torch.nn.Linear(8, 16, bias=False)"
   ]
  },
  {
   "cell_type": "code",
   "execution_count": 94,
   "id": "c6d30249",
   "metadata": {},
   "outputs": [
    {
     "data": {
      "text/plain": [
       "(torch.Size([16, 8]), torch.Size([16, 8]))"
      ]
     },
     "execution_count": 94,
     "metadata": {},
     "output_type": "execute_result"
    }
   ],
   "source": [
    "lin.weight.shape, emb.weight.shape"
   ]
  },
  {
   "cell_type": "code",
   "execution_count": 95,
   "id": "d1c20a46",
   "metadata": {},
   "outputs": [
    {
     "data": {
      "text/plain": [
       "tensor([[[ 0.2254,  0.0222,  0.3604,  0.6448,  1.1176,  0.1838,  0.6554,\n",
       "           0.9433,  0.8894, -0.0659, -0.6811,  0.0245, -0.5030,  1.6213,\n",
       "           0.4703,  1.2801],\n",
       "         [-0.3522,  1.0057,  0.8363, -0.0427, -1.2728,  0.2057, -0.3111,\n",
       "          -0.5370, -0.7459,  0.9924, -0.0058, -0.4318,  0.2198, -0.1054,\n",
       "          -0.4591, -0.1842],\n",
       "         [ 0.8780, -1.0447,  0.4080, -0.0285,  1.0897, -0.3151, -0.0769,\n",
       "           0.5778,  0.5107,  0.0160,  0.9507,  0.1982,  0.9791,  0.9064,\n",
       "           0.2165, -0.6561]],\n",
       "\n",
       "        [[-0.5602, -0.6276, -0.5666, -0.6105,  0.5836, -0.3182,  0.4591,\n",
       "           0.2175,  0.4741, -0.2269,  0.6160,  0.0339,  1.1651,  0.2983,\n",
       "           0.3716,  0.8153],\n",
       "         [ 0.6085, -1.2056,  0.2706, -0.7742,  0.3890, -0.3874, -0.5874,\n",
       "           0.4231,  0.6177, -0.4370,  0.7345, -0.1004,  0.5338,  0.6168,\n",
       "          -0.1914, -0.5218],\n",
       "         [ 0.2216, -0.9242, -1.2047, -0.3560, -0.5258, -0.2851,  0.7616,\n",
       "           0.1467, -0.1758,  0.0170, -0.1492,  0.8539,  0.2696, -0.2159,\n",
       "          -0.4315,  0.6501]]], grad_fn=<UnsafeViewBackward0>)"
      ]
     },
     "execution_count": 95,
     "metadata": {},
     "output_type": "execute_result"
    }
   ],
   "source": [
    "out = lin(emb(x))\n",
    "out"
   ]
  },
  {
   "cell_type": "code",
   "execution_count": 96,
   "id": "875c712e",
   "metadata": {},
   "outputs": [],
   "source": [
    "lin.weight = emb.weight"
   ]
  },
  {
   "cell_type": "code",
   "execution_count": 97,
   "id": "d69bd576",
   "metadata": {},
   "outputs": [
    {
     "data": {
      "text/plain": [
       "tensor([[[15.7307,  2.6111, -3.0232,  0.5548, -5.8108, -3.6962, -4.3623,\n",
       "          -8.6428,  3.4281,  2.0828, -0.8739, -2.4794, -3.0725, -0.1534,\n",
       "          -4.9541, -1.5239],\n",
       "         [-5.8108, -3.5381, -3.0255, -1.5793,  6.6510, -0.8536,  2.3842,\n",
       "           0.8380, -3.4622,  0.8643, -0.1686,  0.4967,  3.5553, -0.4045,\n",
       "           2.7248,  1.1969],\n",
       "         [ 3.4281,  0.3635,  2.1911,  6.2868, -3.4622, -3.8462, -1.9225,\n",
       "           0.8351, 10.9200,  2.2416, -4.6095, -2.5725, -3.0469,  0.8221,\n",
       "          -1.9539,  0.9607]],\n",
       "\n",
       "        [[ 2.6111,  7.4234, -1.3059,  0.0566, -3.5381,  4.3192, -1.4130,\n",
       "           1.1963,  0.3635,  1.4369, -0.7406, -0.7301,  0.3878, -0.1645,\n",
       "           0.6148, -1.9451],\n",
       "         [ 0.5548,  0.0566,  3.6412,  6.3291, -1.5793, -1.7662, -1.5380,\n",
       "           0.7021,  6.2868,  0.8119, -2.3700,  0.9370, -2.8397,  0.9553,\n",
       "          -1.3380,  1.3302],\n",
       "         [-3.6962,  4.3192, -1.0973, -1.7662, -0.8536, 12.4448,  4.8983,\n",
       "           6.6989, -3.8462,  1.4792,  0.1735, -2.5245,  3.0112,  3.0895,\n",
       "           1.8989, -2.0798]]], grad_fn=<UnsafeViewBackward0>)"
      ]
     },
     "execution_count": 97,
     "metadata": {},
     "output_type": "execute_result"
    }
   ],
   "source": [
    "out = lin(emb(x))\n",
    "out"
   ]
  },
  {
   "cell_type": "code",
   "execution_count": null,
   "id": "db240da3",
   "metadata": {},
   "outputs": [
    {
     "data": {
      "text/plain": [
       "True"
      ]
     },
     "execution_count": 70,
     "metadata": {},
     "output_type": "execute_result"
    }
   ],
   "source": [
    "lin.weight.data_ptr() == emb.weight.data_ptr()"
   ]
  },
  {
   "cell_type": "code",
   "execution_count": null,
   "id": "0212a857",
   "metadata": {},
   "outputs": [
    {
     "data": {
      "text/plain": [
       "tensor(True)"
      ]
     },
     "execution_count": 71,
     "metadata": {},
     "output_type": "execute_result"
    }
   ],
   "source": [
    "torch.all(lin.weight == emb.weight)"
   ]
  },
  {
   "cell_type": "markdown",
   "id": "5dee193b",
   "metadata": {},
   "source": [
    "## Motivation for Scaling Projections (weights) Feeding into Residual Stream"
   ]
  },
  {
   "cell_type": "code",
   "execution_count": null,
   "id": "4a97507b",
   "metadata": {},
   "outputs": [],
   "source": [
    "import math\n",
    "import torch"
   ]
  },
  {
   "cell_type": "code",
   "execution_count": 19,
   "id": "c708ac71",
   "metadata": {},
   "outputs": [
    {
     "name": "stdout",
     "output_type": "stream",
     "text": [
      "tensor(-0.0242) tensor(0.9970)\n"
     ]
    }
   ],
   "source": [
    "torch.manual_seed(42)\n",
    "lin = torch.nn.Linear(768,768)\n",
    "ln = torch.nn.LayerNorm(768)\n",
    "x = torch.randn(8, 768)\n",
    "\n",
    "print(x.mean(), x.std())"
   ]
  },
  {
   "cell_type": "code",
   "execution_count": 20,
   "id": "34c1b4ce",
   "metadata": {},
   "outputs": [
    {
     "name": "stdout",
     "output_type": "stream",
     "text": [
      "tensor(-0.1061, grad_fn=<MeanBackward0>) tensor(12.2625, grad_fn=<StdBackward0>)\n"
     ]
    }
   ],
   "source": [
    "for _ in range(24):\n",
    "  x += lin(ln(x))\n",
    "\n",
    "print(x.mean(), x.std())"
   ]
  },
  {
   "cell_type": "code",
   "execution_count": 21,
   "id": "212cf007",
   "metadata": {},
   "outputs": [
    {
     "name": "stdout",
     "output_type": "stream",
     "text": [
      "tensor(-0.0242) tensor(0.9970)\n"
     ]
    }
   ],
   "source": [
    "torch.manual_seed(42)\n",
    "lin = torch.nn.Linear(768,768)\n",
    "ln = torch.nn.LayerNorm(768)\n",
    "x = torch.randn(8, 768)\n",
    "\n",
    "print(x.mean(), x.std())"
   ]
  },
  {
   "cell_type": "code",
   "execution_count": 22,
   "id": "9b051b6d",
   "metadata": {},
   "outputs": [
    {
     "name": "stdout",
     "output_type": "stream",
     "text": [
      "tensor(-0.0240, grad_fn=<MeanBackward0>) tensor(2.7736, grad_fn=<StdBackward0>)\n"
     ]
    }
   ],
   "source": [
    "scale = 1 / math.sqrt(24)\n",
    "for _ in range(24):\n",
    "  x += lin(ln(x)) * scale\n",
    "\n",
    "print(x.mean(), x.std())"
   ]
  },
  {
   "cell_type": "code",
   "execution_count": null,
   "id": "1c868d77",
   "metadata": {},
   "outputs": [],
   "source": [
    "# The snippet above shows, that even having LayerNorm before projection adds its output\n",
    "# to the residual stream is still not enough to keep layer variance reasonable.\n",
    "# Best case, the network would need to learn to adjust weights accordingly ->\n",
    "# potentially slowing down learning. Worst case, we can destabilize learning this way."
   ]
  }
 ],
 "metadata": {
  "kernelspec": {
   "display_name": "gpt2diy",
   "language": "python",
   "name": "python3"
  },
  "language_info": {
   "codemirror_mode": {
    "name": "ipython",
    "version": 3
   },
   "file_extension": ".py",
   "mimetype": "text/x-python",
   "name": "python",
   "nbconvert_exporter": "python",
   "pygments_lexer": "ipython3",
   "version": "3.13.3"
  }
 },
 "nbformat": 4,
 "nbformat_minor": 5
}
